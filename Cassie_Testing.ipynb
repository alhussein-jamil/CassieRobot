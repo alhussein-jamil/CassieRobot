{
 "cells": [
  {
   "cell_type": "code",
   "execution_count": 1,
   "metadata": {},
   "outputs": [],
   "source": [
    "#auto reload modules \n",
    "%load_ext autoreload\n",
    "%autoreload 2\n"
   ]
  },
  {
   "cell_type": "code",
   "execution_count": 2,
   "metadata": {},
   "outputs": [
    {
     "data": {
      "text/plain": [
       "True"
      ]
     },
     "execution_count": 2,
     "metadata": {},
     "output_type": "execute_result"
    }
   ],
   "source": [
    "import torch \n",
    "torch.cuda.is_available()"
   ]
  },
  {
   "cell_type": "code",
   "execution_count": 3,
   "metadata": {},
   "outputs": [
    {
     "name": "stderr",
     "output_type": "stream",
     "text": [
      "c:\\Users\\alhussein Jamil\\AppData\\Local\\Programs\\Python\\Python310\\lib\\site-packages\\tqdm\\auto.py:21: TqdmWarning: IProgress not found. Please update jupyter and ipywidgets. See https://ipywidgets.readthedocs.io/en/stable/user_install.html\n",
      "  from .autonotebook import tqdm as notebook_tqdm\n",
      "DEBUG:matplotlib:matplotlib data path: c:\\Users\\alhussein Jamil\\AppData\\Local\\Programs\\Python\\Python310\\lib\\site-packages\\matplotlib\\mpl-data\n",
      "DEBUG:matplotlib:CONFIGDIR=C:\\Users\\alhussein Jamil\\.matplotlib\n",
      "DEBUG:matplotlib:interactive is False\n",
      "DEBUG:matplotlib:platform is win32\n",
      "DEBUG:matplotlib:CACHEDIR=C:\\Users\\alhussein Jamil\\.matplotlib\n",
      "DEBUG:matplotlib.font_manager:Using fontManager instance from C:\\Users\\alhussein Jamil\\.matplotlib\\fontlist-v330.json\n"
     ]
    }
   ],
   "source": [
    "from cassie import CassieEnv\n",
    "from constants import *\n",
    "import mediapy as media\n",
    "import functions as f \n",
    "import matplotlib.pyplot as plt\n",
    "plt.set_loglevel(\"info\") \n",
    "import warnings \n",
    "warnings.filterwarnings('ignore')"
   ]
  },
  {
   "cell_type": "code",
   "execution_count": 66,
   "metadata": {},
   "outputs": [
    {
     "data": {
      "text/plain": [
       "{'a': 1,\n",
       " 'b': 2,\n",
       " 'c_d': 3,\n",
       " 'c_e': 4,\n",
       " 'c_f_g': 5,\n",
       " 'c_f_h': 6,\n",
       " 'c_f_i_j': 7,\n",
       " 'c_f_i_k': 8,\n",
       " 'c_f_i_l_m': 9,\n",
       " 'c_f_i_l_n': [10, 11, [12, 13]],\n",
       " 'c_f_i_l_o_p': 13}"
      ]
     },
     "execution_count": 66,
     "metadata": {},
     "output_type": "execute_result"
    }
   ],
   "source": [
    "ex_nested_dict = {\n",
    "    \"a\": 1,\n",
    "    \"b\": 2,\n",
    "    \"c\": {\n",
    "        \"d\": 3,\n",
    "        \"e\": 4,\n",
    "        \"f\": {\n",
    "            \"g\": 5,\n",
    "            \"h\": 6,\n",
    "            \"i\": {\n",
    "                \"j\": 7,\n",
    "                \"k\": 8,\n",
    "                \"l\": {\n",
    "                    \"m\": 9,\n",
    "                    \"n\": [10, 11, [12, 13]],\n",
    "                    \"o\": {\n",
    "                        \"p\": 13,\n",
    "                    }\n",
    "\n",
    "                }\n",
    "            }\n",
    "        }\n",
    "    }\n",
    "}\n",
    "f.flatten_dict(ex_nested_dict)\n"
   ]
  },
  {
   "cell_type": "code",
   "execution_count": 16,
   "metadata": {},
   "outputs": [],
   "source": [
    "cassie = CassieEnv({})\n",
    "cassie.render_mode = \"rgb_array\"\n",
    "cassie.reset()\n",
    "ranges=None"
   ]
  },
  {
   "cell_type": "code",
   "execution_count": 42,
   "metadata": {},
   "outputs": [
    {
     "data": {
      "text/plain": [
       "(array([ 8.71098318e+00,  8.64378068e+00,  4.91514154e-01, -4.84108469e+01,\n",
       "        -3.77866495e+01,  1.41175206e-02,  3.09427052e+00, -7.55732991e-01,\n",
       "         6.96615136e+00, -9.87905046e+00, -9.44589165e+00, -1.59152077e+01,\n",
       "        -4.12016507e+01, -1.08476660e-01,  1.43018295e+00, -8.24033013e-01,\n",
       "         9.20592099e-01, -1.91430006e-01, -3.39008546e-01,  3.06259069e-02,\n",
       "        -1.53745043e+00,  4.97810820e+00,  3.56687719e-01,  4.30524043e+01,\n",
       "        -6.15432916e+00,  5.73344992e+00, -9.30903757e-02, -4.62416607e-01,\n",
       "        -1.65846506e-01, -9.51056516e-01, -3.09016994e-01]),\n",
       " array([ 6.96615136e+00, -9.87905046e+00, -9.44589165e+00, -1.59152077e+01,\n",
       "        -4.12016507e+01, -1.08476660e-01,  1.43018295e+00, -8.24033013e-01,\n",
       "         8.71098318e+00,  8.64378068e+00,  4.91514154e-01, -4.84108469e+01,\n",
       "        -3.77866495e+01,  1.41175206e-02,  3.09427052e+00, -7.55732991e-01,\n",
       "         9.20592099e-01,  1.91430006e-01, -3.39008546e-01, -3.06259069e-02,\n",
       "        -1.53745043e+00,  4.97810820e+00, -3.56687719e-01,  4.30524043e+01,\n",
       "        -6.15432916e+00, -5.73344992e+00, -9.30903757e-02, -4.62416607e-01,\n",
       "        -1.65846506e-01, -3.09016994e-01, -9.51056516e-01]))"
      ]
     },
     "execution_count": 42,
     "metadata": {},
     "output_type": "execute_result"
    }
   ],
   "source": [
    "cassie.step(cassie.action_space.sample())\n",
    "cassie._get_obs(),cassie._get_symmetric_obs()"
   ]
  },
  {
   "cell_type": "code",
   "execution_count": 8,
   "metadata": {},
   "outputs": [],
   "source": [
    "import constants as c   "
   ]
  },
  {
   "cell_type": "code",
   "execution_count": 15,
   "metadata": {},
   "outputs": [
    {
     "data": {
      "text/plain": [
       "(29,)"
      ]
     },
     "execution_count": 15,
     "metadata": {},
     "output_type": "execute_result"
    }
   ],
   "source": [
    "np.array(cassie.data.sensordata).shape"
   ]
  },
  {
   "cell_type": "code",
   "execution_count": 13,
   "metadata": {},
   "outputs": [
    {
     "name": "stdout",
     "output_type": "stream",
     "text": [
      "[ 9.33546870e-02  2.15704245e-01 -1.05217553e-03 -1.24117588e+01\n",
      "  3.75970133e-01 -7.41560697e-03  1.00402428e+00  7.51940266e-03\n",
      " -1.86041662e-01  1.09779610e-01 -5.89540874e-02 -1.26801109e+01\n",
      "  3.72904463e-01  7.53225582e-03  1.01001660e+00  7.45808927e-03\n",
      "  9.99950816e-01  1.65960492e-03  9.53277757e-03 -2.17663100e-03\n",
      " -3.01583177e-03  8.53791360e-03 -3.88457182e-03  1.27536908e+00\n",
      "  1.29476189e+00 -1.66928060e+00  2.16070330e-03 -4.99992508e-01\n",
      "  1.68027263e-03]\n",
      "left-hip-roll-input [0.09335469]\n",
      "left-hip-yaw-input [0.21570425]\n",
      "left-hip-pitch-input [-0.00105218]\n",
      "left-knee-input [-12.41175883]\n",
      "left-foot-input [0.37597013]\n",
      "left-shin-output [-0.00741561]\n",
      "left-tarsus-output [1.00402428]\n",
      "left-foot-output [0.0075194]\n",
      "right-hip-roll-input [-0.18604166]\n",
      "right-hip-yaw-input [0.10977961]\n",
      "right-hip-pitch-input [-0.05895409]\n",
      "right-knee-input [-12.68011085]\n",
      "right-foot-input [0.37290446]\n",
      "right-shin-output [0.00753226]\n",
      "right-tarsus-output [1.0100166]\n",
      "right-foot-output [0.00745809]\n",
      "pelvis-orientation [ 0.99995082  0.0016596   0.00953278 -0.00217663]\n",
      "pelvis-angular-velocity [-0.00301583  0.00853791 -0.00388457]\n"
     ]
    }
   ],
   "source": [
    "print(cassie.data.sensordata)\n",
    "for key in c.sensor_ranges.keys():\n",
    "    print(key, cassie.data.sensor(key).data)\n"
   ]
  },
  {
   "cell_type": "code",
   "execution_count": 68,
   "metadata": {},
   "outputs": [],
   "source": [
    "x = np.linspace(0, 1, 10000)"
   ]
  },
  {
   "cell_type": "code",
   "execution_count": 69,
   "metadata": {},
   "outputs": [],
   "source": [
    "reg = []\n",
    "diffs = []\n",
    "# fig, ax = plt.subplots(10,5,figsize=(16, 20), sharex=True, sharey=True)\n",
    "\n",
    "for kappa in range(200):\n",
    "    von_mises = f.p_between_von_mises(a = 0 , b = 0.5, kappa = kappa , x = x) \n",
    "    min_diff = np.inf\n",
    "    min_u = 0\n",
    "    for j in range(300):\n",
    "        u = j/10.0\n",
    "        approx =  1/2+1/2*(np.tanh(u*np.sin(2*np.pi*x)))\n",
    "        diff = np.mean(np.abs(von_mises-approx))\n",
    "        if diff < min_diff:\n",
    "            min_diff = diff\n",
    "            min_u = u\n",
    "    reg.append([kappa,min_u])\n",
    "    diffs.append(min_diff)"
   ]
  },
  {
   "cell_type": "code",
   "execution_count": 70,
   "metadata": {},
   "outputs": [],
   "source": [
    "phis= np.linspace(0, 1, 50)\n",
    "von_mises_values = [f.p_between_von_mises(a = 0 , b = 0.5, kappa = 25 , x = phi) for phi in phis]"
   ]
  },
  {
   "cell_type": "code",
   "execution_count": 71,
   "metadata": {},
   "outputs": [
    {
     "data": {
      "text/plain": [
       "[<matplotlib.lines.Line2D at 0x20005b97070>]"
      ]
     },
     "execution_count": 71,
     "metadata": {},
     "output_type": "execute_result"
    },
    {
     "data": {
      "image/png": "[encoded data removed]",
      "text/plain": [
       "<Figure size 640x480 with 1 Axes>"
      ]
     },
     "metadata": {},
     "output_type": "display_data"
    }
   ],
   "source": [
    "plt.plot(phis,von_mises_values)"
   ]
  },
  {
   "cell_type": "code",
   "execution_count": 72,
   "metadata": {},
   "outputs": [
    {
     "name": "stdout",
     "output_type": "stream",
     "text": [
      "a = 6.072980079037679\n",
      "b = 0.05573903726330689\n",
      "c = -3.936458863461854\n",
      "d = 2.365670701763357\n",
      "The function to use is y = 6.072980 * log(0.055739 * x + 2.365671) + -3.936459\n"
     ]
    },
    {
     "data": {
      "image/png": "[encoded data removed]",
      "text/plain": [
       "<Figure size 640x480 with 1 Axes>"
      ]
     },
     "metadata": {},
     "output_type": "display_data"
    }
   ],
   "source": [
    "import numpy as np\n",
    "from scipy.optimize import curve_fit\n",
    "import math\n",
    "\n",
    "# Define the logarithmic function\n",
    "def logarithmic_func(x, a, b, c, d):\n",
    "    return a * np.log(b * x+ d ) + c\n",
    "\n",
    "# Input data\n",
    "data = np.array(reg)\n",
    "\n",
    "# Extract x and y values from the data\n",
    "x_data = data[:, 0]\n",
    "y_data = data[:, 1]\n",
    "\n",
    "# Make sure x values are positive since we are using logarithms\n",
    "x_data_positive = np.where(x_data > 0, x_data, 1e-10)\n",
    "\n",
    "# Fit the data using the logarithmic function\n",
    "params, _ = curve_fit(logarithmic_func, x_data_positive, y_data)\n",
    "\n",
    "# Extract the coefficients\n",
    "a, b, c,d= params\n",
    "\n",
    "# Print the coefficients\n",
    "print(\"a =\", a)\n",
    "print(\"b =\", b)\n",
    "print(\"c =\", c)\n",
    "print(\"d =\", d)\n",
    "plt.plot(x_data, logarithmic_func(x_data, a, b, c,d))\n",
    "plt.plot(x_data, y_data)\n",
    "print(\"The function to use is y = {:1f} * log({:1f} * x + {:1f}) + {:1f}\".format(a, b, d, c))"
   ]
  },
  {
   "cell_type": "code",
   "execution_count": 73,
   "metadata": {},
   "outputs": [
    {
     "data": {
      "image/png": "[encoded data removed]",
      "text/plain": [
       "<Figure size 640x480 with 1 Axes>"
      ]
     },
     "metadata": {},
     "output_type": "display_data"
    },
    {
     "data": {
      "text/plain": [
       "[<matplotlib.lines.Line2D at 0x200061d4220>]"
      ]
     },
     "execution_count": 73,
     "metadata": {},
     "output_type": "execute_result"
    },
    {
     "data": {
      "image/png": "[encoded data removed]",
      "text/plain": [
       "<Figure size 640x480 with 1 Axes>"
      ]
     },
     "metadata": {},
     "output_type": "display_data"
    }
   ],
   "source": [
    "plt.plot(np.array(reg)[:,0], np.array(reg)[:,1])\n",
    "plt.show()\n",
    "plt.plot(diffs)"
   ]
  },
  {
   "cell_type": "code",
   "execution_count": 74,
   "metadata": {},
   "outputs": [
    {
     "data": {
      "text/plain": [
       "[<matplotlib.lines.Line2D at 0x200061bd390>]"
      ]
     },
     "execution_count": 74,
     "metadata": {},
     "output_type": "execute_result"
    },
    {
     "data": {
      "image/png": "[encoded data removed]",
      "text/plain": [
       "<Figure size 640x480 with 1 Axes>"
      ]
     },
     "metadata": {},
     "output_type": "display_data"
    }
   ],
   "source": [
    "\n",
    "plt.plot(x,f.p_between_von_mises(a = 0 , b = 0.3, kappa = 25 , x = x) )\n",
    "plt.plot(x, 1/2+1/2*(np.tanh(6*np.sin(2*np.pi*x))))"
   ]
  },
  {
   "cell_type": "code",
   "execution_count": 75,
   "metadata": {},
   "outputs": [],
   "source": [
    "#detect ranges for each observation by moving the joints randomly and recording the min and max values\n",
    "cassie = CassieEnv({})\n",
    "cassie.reset()\n",
    "for i in range(100):\n",
    "    observation, reward, terminated, _, info = cassie.step(cassie.action_space.sample())\n",
    "    if(i==0 and ranges is None):\n",
    "        ranges = np.array([observation,observation],dtype=np.float16)\n",
    "    else:\n",
    "        ranges[0,:] = np.minimum(ranges[0,:],observation)\n",
    "        ranges[1,:] = np.maximum(ranges[1,:],observation)\n"
   ]
  },
  {
   "cell_type": "code",
   "execution_count": 76,
   "metadata": {},
   "outputs": [
    {
     "data": {
      "text/plain": [
       "array([[ 0.05017,  0.1935 ,  0.01752,  0.02289,  0.2588 ,  0.4373 ,\n",
       "         0.2081 ,  0.3247 ,  0.11   ,  0.23   ,  0.0794 ,  0.04105,\n",
       "         0.4812 ,  0.3677 ,  0.1458 ,  0.5337 ,  0.219  ,  0.3083 ,\n",
       "         0.2844 ,  0.6274 ,  0.372  ,  0.4194 ,  0.4587 , -0.9946 ,\n",
       "        -1.     ],\n",
       "       [ 0.8794 ,  0.913  ,  0.9634 ,  0.909  ,  0.9976 ,  0.5806 ,\n",
       "         0.8145 ,  0.9844 ,  0.919  ,  0.8506 ,  0.9683 ,  0.915  ,\n",
       "         0.998  ,  0.5903 ,  0.8525 ,  0.985  ,  0.817  ,  0.8276 ,\n",
       "         0.692  ,  1.     ,  0.682  ,  0.966  ,  0.581  ,  0.9946 ,\n",
       "         1.     ]], dtype=float16)"
      ]
     },
     "execution_count": 76,
     "metadata": {},
     "output_type": "execute_result"
    }
   ],
   "source": [
    "ranges"
   ]
  },
  {
   "cell_type": "code",
   "execution_count": 77,
   "metadata": {},
   "outputs": [
    {
     "data": {
      "text/plain": [
       "(array([0.4179753 , 0.56207651, 0.40519259, 0.81590036, 1.0123376 ,\n",
       "        0.49509668, 0.25537745, 0.99768826, 0.56362097, 0.49516323,\n",
       "        0.40710227, 0.81656471, 1.0185254 , 0.50289983, 0.25365217,\n",
       "        1.00284551, 0.49994932, 0.49054938, 0.49983539, 0.99996135,\n",
       "        0.49851914, 0.50422524, 0.50431324, 0.        , 1.        ]),\n",
       " {})"
      ]
     },
     "execution_count": 77,
     "metadata": {},
     "output_type": "execute_result"
    }
   ],
   "source": [
    "cassie.reset()"
   ]
  },
  {
   "cell_type": "code",
   "execution_count": 78,
   "metadata": {},
   "outputs": [],
   "source": [
    "obs_ranges = np.array([np.floor(ranges[0,:]),np.ceil(ranges[1,:])],np.float16)"
   ]
  },
  {
   "cell_type": "code",
   "execution_count": 79,
   "metadata": {},
   "outputs": [
    {
     "data": {
      "text/plain": [
       "array([[ 0.,  0.,  0.,  0.,  0.,  0.,  0.,  0.,  0.,  0.,  0.,  0.,  0.,\n",
       "         0.,  0.,  0.,  0.,  0.,  0.,  0.,  0.,  0.,  0., -1., -1.],\n",
       "       [ 1.,  1.,  1.,  1.,  1.,  1.,  1.,  1.,  1.,  1.,  1.,  1.,  1.,\n",
       "         1.,  1.,  1.,  1.,  1.,  1.,  1.,  1.,  1.,  1.,  1.,  1.]],\n",
       "      dtype=float16)"
      ]
     },
     "execution_count": 79,
     "metadata": {},
     "output_type": "execute_result"
    }
   ],
   "source": [
    "obs_ranges"
   ]
  },
  {
   "attachments": {},
   "cell_type": "markdown",
   "metadata": {},
   "source": [
    "# Randomized moveoemnt "
   ]
  },
  {
   "cell_type": "code",
   "execution_count": 96,
   "metadata": {},
   "outputs": [],
   "source": [
    "\n"
   ]
  },
  {
   "cell_type": "code",
   "execution_count": 44,
   "metadata": {},
   "outputs": [
    {
     "name": "stdout",
     "output_type": "stream",
     "text": [
      "0\n"
     ]
    },
    {
     "ename": "AttributeError",
     "evalue": "'CassieEnv' object has no attribute 'used_quantities'",
     "output_type": "error",
     "traceback": [
      "\u001b[1;31m---------------------------------------------------------------------------\u001b[0m",
      "\u001b[1;31mAttributeError\u001b[0m                            Traceback (most recent call last)",
      "Cell \u001b[1;32mIn[44], line 29\u001b[0m\n\u001b[0;32m     27\u001b[0m     \u001b[39melse\u001b[39;00m:\n\u001b[0;32m     28\u001b[0m         exponents[exponent]\u001b[39m.\u001b[39mappend(value)\n\u001b[1;32m---> 29\u001b[0m \u001b[39mfor\u001b[39;00m metric,value \u001b[39min\u001b[39;00m env\u001b[39m.\u001b[39;49mused_quantities\u001b[39m.\u001b[39mitems():\n\u001b[0;32m     30\u001b[0m     \u001b[39mif\u001b[39;00m metric \u001b[39mnot\u001b[39;00m \u001b[39min\u001b[39;00m metrics\u001b[39m.\u001b[39mkeys():\n\u001b[0;32m     31\u001b[0m         metrics[metric] \u001b[39m=\u001b[39m [value]\n",
      "\u001b[1;31mAttributeError\u001b[0m: 'CassieEnv' object has no attribute 'used_quantities'"
     ]
    }
   ],
   "source": [
    "#show a video of 100steps of the environment and register some metrics \n",
    "env = CassieEnv({\"r\":0.3})\n",
    "obs,_ = env.reset(seed = np.random.randint(0,1000))\n",
    "print(env.phi)\n",
    "env.render_mode = \"rgb_array\"\n",
    "metrics = {}\n",
    "frames = []\n",
    "metrics[\"vx\"] = []\n",
    "metrics[\"vy\"] = []\n",
    "metrics[\"vz\"] = []\n",
    "\n",
    "C = {}\n",
    "exponents = {}\n",
    "max_steps = 100\n",
    "number_of_rounds = 4\n",
    "for i in range(max_steps):\n",
    "\n",
    "    action = cassie.action_space.sample()\n",
    "    obs, reward, terminated, _, _ = env.step(action)\n",
    "    frames.append(env.render())\n",
    "    metrics[\"vz\"] .append( env.data.qvel[2])\n",
    "    metrics[\"vx\"] .append( env.data.qvel[0])\n",
    "    metrics[\"vy\"] .append( env.data.qvel[1])\n",
    "    for exponent, value in env.exponents.items():\n",
    "        if exponent not in exponents.keys():\n",
    "            exponents[exponent] = [value]\n",
    "        else:\n",
    "            exponents[exponent].append(value)\n",
    "    # for metric,value in env.used_quantities.items():\n",
    "    #     if metric not in metrics.keys():\n",
    "    #         metrics[metric] = [value]\n",
    "    #     else:\n",
    "    #         metrics[metric].append(value)\n",
    "\n",
    "    for key,value in env.C.items():\n",
    "        if key not in C.keys():\n",
    "            C[key] = [value]\n",
    "        else:\n",
    "            C[key].append(value)\n",
    "\n",
    "env.close()\n",
    "#save video \n",
    "media.show_video( frames, fps=30)\n",
    "#plot the metrics stacked in a vertical way in multiple subplots\n",
    "import matplotlib.pyplot as plt\n",
    "fig, axs = plt.subplots(len(metrics.keys()), 1, figsize=(10, 10))\n",
    "for i, metric in enumerate(metrics.keys()):\n",
    "    #choose a random color for the plot \n",
    "    s = np.random.rand(3,)\n",
    "\n",
    "    axs[i].plot(metrics[metric], color=s)\n",
    "    axs[i].legend([metric])\n",
    "\n",
    "plt.show()\n",
    "\n",
    "\n",
    "#do the same thing for the exponents\n",
    "fig, axs = plt.subplots(len(exponents.keys()), 1, figsize=(10, 10))\n",
    "for i, metric in enumerate(exponents.keys()):\n",
    "    #choose a random color for the plot \n",
    "    s = np.random.rand(3,)\n",
    "\n",
    "    axs[i].plot(np.clip(exponents[metric],0,100000), color=s)\n",
    "    axs[i].legend([metric])\n",
    "\n",
    "plt.show()\n",
    "\n",
    "#do the same for C \n",
    "fig, axs = plt.subplots(len(C.keys()), 1, figsize=(10, 10))\n",
    "for i, metric in enumerate(C.keys()):\n",
    "    #choose a random color for the plot \n",
    "    s = np.random.rand(3,)\n",
    "\n",
    "    axs[i].plot(C[metric], color=s)\n",
    "    axs[i].legend([metric])"
   ]
  },
  {
   "cell_type": "code",
   "execution_count": 81,
   "metadata": {},
   "outputs": [
    {
     "name": "stdout",
     "output_type": "stream",
     "text": [
      "{'gamma': 0.99, 'lr': 0.001, 'train_batch_size': 50000, 'model': {'fcnet_hiddens': [256, 256], 'fcnet_activation': 'swish', 'vf_share_layers': False, 'free_log_std': True}, 'optimizer': {'type': 'adam'}, 'use_critic': True, 'use_gae': True, 'lambda_': 0.95, 'kl_coeff': 0.2, 'sgd_minibatch_size': 9000, 'num_sgd_iter': 5, 'shuffle_sequences': True, 'vf_loss_coeff': 0.5, 'entropy_coeff': 0.01, 'clip_param': 0.3, 'kl_target': 0.01, 'vf_clip_param': 1000.0, 'env': 'cassie-v0', 'disable_env_checking': True, 'clip_actions': True, 'framework': 'torch', 'num_rollout_workers': 1, 'num_envs_per_worker': 1, 'rollout_fragment_length': 'auto', 'batch_mode': 'truncate_episodes', 'recreate_failed_workers': True, 'observation_filter': 'MeanStdFilter', 'evaluation_interval': 2, 'evaluation_duration': 10, 'num_gpus': 0, 'num_cpus_per_worker': 1}\n"
     ]
    }
   ],
   "source": [
    "import loader as l \n",
    "loader = l.Loader()\n",
    "config  = loader.load_config(\"dict_config_test.yaml\")"
   ]
  },
  {
   "cell_type": "code",
   "execution_count": 82,
   "metadata": {},
   "outputs": [],
   "source": [
    "from ray.rllib.algorithms.ppo import PPOConfig\n",
    "from ray.tune.registry import register_env"
   ]
  },
  {
   "cell_type": "code",
   "execution_count": 83,
   "metadata": {},
   "outputs": [],
   "source": [
    "register_env(\"cassie-v0\", lambda config: CassieEnv(config))"
   ]
  },
  {
   "cell_type": "code",
   "execution_count": 84,
   "metadata": {},
   "outputs": [
    {
     "name": "stderr",
     "output_type": "stream",
     "text": [
      "2023-06-11 00:10:23,415\tINFO worker.py:1474 -- Calling ray.init() again after it has already been called.\n",
      "2023-06-11 00:10:35,824\tINFO trainable.py:173 -- Trainable.setup took 12.399 seconds. If your trainable is slow to initialize, consider setting reuse_actors=True to reduce actor creation overheads.\n",
      "2023-06-11 00:10:35,826\tWARNING util.py:68 -- Install gputil for GPU system monitoring.\n"
     ]
    }
   ],
   "source": [
    "\n",
    "import ray \n",
    "ray.init(ignore_reinit_error=True)\n",
    "trainer = PPOConfig().from_dict(config).build()\n"
   ]
  },
  {
   "cell_type": "code",
   "execution_count": 85,
   "metadata": {},
   "outputs": [],
   "source": [
    "from caps import *"
   ]
  },
  {
   "cell_type": "code",
   "execution_count": 86,
   "metadata": {},
   "outputs": [],
   "source": [
    "trainer.get_default_policy_class = lambda : CAPSTorchPolicy"
   ]
  },
  {
   "cell_type": "code",
   "execution_count": 87,
   "metadata": {},
   "outputs": [],
   "source": [
    "import tensorboardX"
   ]
  },
  {
   "cell_type": "code",
   "execution_count": 88,
   "metadata": {},
   "outputs": [
    {
     "data": {
      "text/plain": [
       "<function __main__.<lambda>()>"
      ]
     },
     "execution_count": 88,
     "metadata": {},
     "output_type": "execute_result"
    }
   ],
   "source": [
    "trainer.get_default_policy_class"
   ]
  },
  {
   "cell_type": "code",
   "execution_count": 89,
   "metadata": {},
   "outputs": [
    {
     "data": {
      "text/plain": [
       "ray.rllib.algorithms.ppo.ppo.PPO"
      ]
     },
     "execution_count": 89,
     "metadata": {},
     "output_type": "execute_result"
    }
   ],
   "source": [
    "type(trainer)"
   ]
  },
  {
   "cell_type": "code",
   "execution_count": 90,
   "metadata": {},
   "outputs": [
    {
     "ename": "ModuleNotFoundError",
     "evalue": "No module named 'ray.rllib.algorithms.ppo.ppo_learner_config'",
     "output_type": "error",
     "traceback": [
      "\u001b[1;31m---------------------------------------------------------------------------\u001b[0m",
      "\u001b[1;31mModuleNotFoundError\u001b[0m                       Traceback (most recent call last)",
      "Cell \u001b[1;32mIn[90], line 1\u001b[0m\n\u001b[1;32m----> 1\u001b[0m trainer\u001b[39m.\u001b[39;49mload_checkpoint(\u001b[39m\"\u001b[39;49m\u001b[39mcheckpoint_000460\u001b[39;49m\u001b[39m\"\u001b[39;49m)\n",
      "File \u001b[1;32mc:\\Users\\alhussein Jamil\\AppData\\Local\\Programs\\Python\\Python310\\lib\\site-packages\\ray\\rllib\\algorithms\\algorithm.py:2162\u001b[0m, in \u001b[0;36mAlgorithm.load_checkpoint\u001b[1;34m(self, checkpoint)\u001b[0m\n\u001b[0;32m   2156\u001b[0m \u001b[39m@override\u001b[39m(Trainable)\n\u001b[0;32m   2157\u001b[0m \u001b[39mdef\u001b[39;00m \u001b[39mload_checkpoint\u001b[39m(\u001b[39mself\u001b[39m, checkpoint: \u001b[39mstr\u001b[39m) \u001b[39m-\u001b[39m\u001b[39m>\u001b[39m \u001b[39mNone\u001b[39;00m:\n\u001b[0;32m   2158\u001b[0m     \u001b[39m# Checkpoint is provided as a directory name.\u001b[39;00m\n\u001b[0;32m   2159\u001b[0m     \u001b[39m# Restore from the checkpoint file or dir.\u001b[39;00m\n\u001b[0;32m   2161\u001b[0m     checkpoint_info \u001b[39m=\u001b[39m get_checkpoint_info(checkpoint)\n\u001b[1;32m-> 2162\u001b[0m     checkpoint_data \u001b[39m=\u001b[39m Algorithm\u001b[39m.\u001b[39;49m_checkpoint_info_to_algorithm_state(checkpoint_info)\n\u001b[0;32m   2163\u001b[0m     \u001b[39mself\u001b[39m\u001b[39m.\u001b[39m__setstate__(checkpoint_data)\n\u001b[0;32m   2164\u001b[0m     \u001b[39mif\u001b[39;00m \u001b[39mself\u001b[39m\u001b[39m.\u001b[39mconfig\u001b[39m.\u001b[39m_enable_learner_api:\n",
      "File \u001b[1;32mc:\\Users\\alhussein Jamil\\AppData\\Local\\Programs\\Python\\Python310\\lib\\site-packages\\ray\\rllib\\algorithms\\algorithm.py:2703\u001b[0m, in \u001b[0;36mAlgorithm._checkpoint_info_to_algorithm_state\u001b[1;34m(checkpoint_info, policy_ids, policy_mapping_fn, policies_to_train)\u001b[0m\n\u001b[0;32m   2701\u001b[0m         state \u001b[39m=\u001b[39m msgpack\u001b[39m.\u001b[39mload(f)\n\u001b[0;32m   2702\u001b[0m     \u001b[39melse\u001b[39;00m:\n\u001b[1;32m-> 2703\u001b[0m         state \u001b[39m=\u001b[39m pickle\u001b[39m.\u001b[39;49mload(f)\n\u001b[0;32m   2705\u001b[0m \u001b[39m# New checkpoint format: Policies are in separate sub-dirs.\u001b[39;00m\n\u001b[0;32m   2706\u001b[0m \u001b[39m# Note: Algorithms like ES/ARS don't have a WorkerSet, so we just return\u001b[39;00m\n\u001b[0;32m   2707\u001b[0m \u001b[39m# the plain state here.\u001b[39;00m\n\u001b[0;32m   2708\u001b[0m \u001b[39mif\u001b[39;00m (\n\u001b[0;32m   2709\u001b[0m     checkpoint_info[\u001b[39m\"\u001b[39m\u001b[39mcheckpoint_version\u001b[39m\u001b[39m\"\u001b[39m] \u001b[39m>\u001b[39m version\u001b[39m.\u001b[39mVersion(\u001b[39m\"\u001b[39m\u001b[39m0.1\u001b[39m\u001b[39m\"\u001b[39m)\n\u001b[0;32m   2710\u001b[0m     \u001b[39mand\u001b[39;00m state\u001b[39m.\u001b[39mget(\u001b[39m\"\u001b[39m\u001b[39mworker\u001b[39m\u001b[39m\"\u001b[39m) \u001b[39mis\u001b[39;00m \u001b[39mnot\u001b[39;00m \u001b[39mNone\u001b[39;00m\n\u001b[0;32m   2711\u001b[0m ):\n",
      "\u001b[1;31mModuleNotFoundError\u001b[0m: No module named 'ray.rllib.algorithms.ppo.ppo_learner_config'"
     ]
    }
   ],
   "source": [
    "trainer.load_checkpoint(\"checkpoint_000460\")"
   ]
  },
  {
   "cell_type": "code",
   "execution_count": null,
   "metadata": {},
   "outputs": [
    {
     "ename": "",
     "evalue": "",
     "output_type": "error",
     "traceback": [
      "\u001b[1;31mRunning cells with 'c:\\Users\\alhussein Jamil\\AppData\\Local\\Microsoft\\WindowsApps\\python3.10.exe' requires the ipykernel package.\n",
      "\u001b[1;31mRun the following command to install 'ipykernel' into the Python environment. \n",
      "\u001b[1;31mCommand: '\"c:/Users/alhussein Jamil/AppData/Local/Microsoft/WindowsApps/python3.10.exe\" -m pip install ipykernel -U --user --force-reinstall'"
     ]
    }
   ],
   "source": [
    "#show a video of 100steps of the environment and register some metrics \n",
    "env = CassieEnv({})\n",
    "obs,_ = env.reset(seed = np.random.randint(0,1000))\n",
    "env.render_mode = \"rgb_array\"\n",
    "metrics = {}\n",
    "frames = []\n",
    "metrics[\"vx\"] = []\n",
    "metrics[\"vy\"] = []\n",
    "metrics[\"vz\"] = []\n",
    "rewards = {}\n",
    "foot_pos = []\n",
    "filterfn = trainer.workers.local_worker().filters[\"default_policy\"]\n",
    "C = {}\n",
    "exponents = {}\n",
    "max_steps = 100\n",
    "number_of_rounds = 4\n",
    "force_squared = []\n",
    "for i in range(max_steps):\n",
    "    \n",
    "    obs = filterfn(obs)\n",
    "    action = trainer.compute_single_action(obs)\n",
    "    obs, reward, terminated, _, info = env.step(action)\n",
    "    foot_pos.append(env.data.xpos[13,2])\n",
    "    frames.append(env.render())\n",
    "    metrics[\"vz\"] .append( env.data.qvel[2])\n",
    "    metrics[\"vx\"] .append( env.data.qvel[0])\n",
    "    metrics[\"vy\"] .append( env.data.qvel[1])\n",
    "    for exponent, value in env.exponents.items():\n",
    "        if exponent not in exponents.keys():\n",
    "            exponents[exponent] = [value]\n",
    "        else:\n",
    "            exponents[exponent].append(value)\n",
    "    for metric,value in env.used_quantities.items():\n",
    "        if metric not in metrics.keys():\n",
    "            metrics[metric] = [value]\n",
    "        else:\n",
    "            metrics[metric].append(value)\n",
    "    for reward,value in info['custom_rewards'].items():\n",
    "        if reward not in rewards.keys():\n",
    "            rewards[reward] = [value]\n",
    "        else:\n",
    "            rewards[reward].append(value)\n",
    "    for key,value in env.C.items():\n",
    "        if key not in C.keys():\n",
    "            C[key] = [value]\n",
    "        else:\n",
    "            C[key].append(value)\n",
    "    if(env.exponents['q_left_frc']>0):\n",
    " \n",
    "        force_squared.append(env.exponents['q_left_frc'])\n",
    "env.close()\n",
    "#save video \n",
    "media.show_video( frames, fps=30)\n",
    "\n",
    "#plot the metrics stacked in a vertical way in multiple subplots\n",
    "import matplotlib.pyplot as plt\n",
    "\n",
    "fig, axs = plt.subplots(12, 1, figsize=(10, 10))\n",
    "\n",
    "axs[0].plot(rewards[\"r_biped\"],color = np.random.rand(3,))\n",
    "axs[0].legend([\"r_biped\"])\n",
    "axs[1].plot(metrics[\"q_left_frc\"],color = np.random.rand(3,))\n",
    "axs[1].legend([\"q_left_frc\"])\n",
    "axs[2].plot(metrics[\"q_right_frc\"],color = np.random.rand(3,))\n",
    "axs[2].legend([\"q_right_frc\"])\n",
    "axs[3].plot(metrics[\"q_left_spd\"],color = np.random.rand(3,))\n",
    "axs[3].legend([\"q_left_spd\"])\n",
    "axs[4].plot(metrics[\"q_right_spd\"],color = np.random.rand(3,))\n",
    "axs[4].legend([\"q_right_spd\"])\n",
    "axs[5].plot(C[\"C_frc_left\"],color = np.random.rand(3,))\n",
    "axs[5].legend([\"C_frc_left\"])\n",
    "axs[6].plot(C[\"C_frc_right\"],color = np.random.rand(3,))\n",
    "axs[6].legend([\"C_frc_right\"])\n",
    "axs[7].plot(C[\"C_spd_left\"],color = np.random.rand(3,))\n",
    "axs[7].legend([\"C_spd_left\"])\n",
    "axs[8].plot(C[\"C_spd_right\"],color = np.random.rand(3,))\n",
    "axs[8].legend([\"C_spd_right\"])\n",
    "axs[9].plot(foot_pos)\n",
    "axs[9].legend([\"foot_pos\"])\n",
    "axs[10].plot(metrics[\"q_phase_left\"])\n",
    "axs[10].legend([\"q_phase_left\"])\n",
    "axs[11].plot(metrics[\"q_phase_right\"])\n",
    "axs[11].legend([\"q_phase_right\"])\n",
    "plt.show()\n",
    "\n",
    "fig, axs = plt.subplots(len(rewards.keys()), 1, figsize=(10, 10))\n",
    "print(\"Left_Force mean \" ,np.mean(force_squared), \"Std\" , np.std(force_squared), \"max\", np.max(force_squared), \"min\", np.min(force_squared))\n",
    "for i, metric in enumerate(rewards.keys()):\n",
    "    # if(metric == \"r_biped\"):\n",
    "    #choose a random color for the plot \n",
    "    s = np.random.rand(3,)\n",
    "\n",
    "    axs[i].plot(rewards[metric], color=s)\n",
    "    axs[i].legend([metric])\n",
    "    \n",
    "plt.show()\n",
    "fig, axs = plt.subplots(len(metrics.keys()), 1, figsize=(10, 10))\n",
    "for i, metric in enumerate(metrics.keys()):\n",
    "\n",
    "    #choose a random color for the plot \n",
    "    s = np.random.rand(3,)\n",
    "\n",
    "    axs[i].plot(metrics[metric], color=s)\n",
    "    axs[i].legend([metric])\n",
    "\n",
    "plt.show()\n",
    "\n",
    "\n",
    "#do the same thing for the exponents\n",
    "fig, axs = plt.subplots(len(exponents.keys()), 1, figsize=(10, 10))\n",
    "for i, metric in enumerate(exponents.keys()):\n",
    "    #choose a random color for the plot \n",
    "    s = np.random.rand(3,)\n",
    "\n",
    "    axs[i].plot(np.clip(exponents[metric],0,100000), color=s)\n",
    "    axs[i].legend([metric])\n",
    "\n",
    "plt.show()\n",
    "\n",
    "#do the same for C \n",
    "fig, axs = plt.subplots(len(C.keys()), 1, figsize=(10, 10))\n",
    "for i, metric in enumerate(C.keys()):\n",
    "    #choose a random color for the plot \n",
    "    s = np.random.rand(3,)\n",
    "\n",
    "    axs[i].plot(C[metric], color=s)\n",
    "    axs[i].legend([metric])\n",
    "\n",
    "\n",
    "\n"
   ]
  },
  {
   "cell_type": "code",
   "execution_count": null,
   "metadata": {},
   "outputs": [
    {
     "ename": "",
     "evalue": "",
     "output_type": "error",
     "traceback": [
      "\u001b[1;31mRunning cells with 'c:\\Users\\alhussein Jamil\\AppData\\Local\\Microsoft\\WindowsApps\\python3.10.exe' requires the ipykernel package.\n",
      "\u001b[1;31mRun the following command to install 'ipykernel' into the Python environment. \n",
      "\u001b[1;31mCommand: '\"c:/Users/alhussein Jamil/AppData/Local/Microsoft/WindowsApps/python3.10.exe\" -m pip install ipykernel -U --user --force-reinstall'"
     ]
    }
   ],
   "source": [
    "cassie.reset()\n",
    "\n",
    "first_values=[]\n",
    "for i in range(200):\n",
    "    cassie.step(np.zeros(10,) )\n",
    "    print(len([x for x in cassie.data.cfrc_ext if np.linalg.norm(x)>0.0]))\n",
    "    if(cassie.exponents[\"q_right_frc\"]>0 or cassie.exponents[\"q_left_frc\"]>0):\n",
    "        print(\"i : \", i)\n",
    "        force = cassie.exponents[\"q_right_frc\"] if cassie.exponents[\"q_right_frc\"]>0 else cassie.exponents[\"q_left_frc\"]\n",
    "        print(\"FRC_\"+ \"right\" if cassie.exponents[\"q_right_frc\"]>0 else cassie.exponents[\"q_left_frc\"] , force)\n",
    "                \n",
    "        # print(cassie.data.cfrc_ext[1])\n",
    "        # print(cassie.data.cfrc_ext[4])\n",
    "    \n",
    "        #look for the closest value to the force in the external forces\n",
    "\n",
    "        \n",
    "    print([np.round(np.linalg.norm(cassie.data.cfrc_ext[j]),2) for j in range(len(cassie.data.cfrc_ext))])\n",
    "\n",
    "    # if(i==0):\n",
    "    #     first_values = deepcopy(cassie.data.cfrc_ext)\n",
    "    # else: \n",
    "    #     for j in range(len(first_values)):\n",
    "    #         if(np.linalg.norm(cassie.data.cfrc_ext[j]-first_values[j])!=0):\n",
    "    #             print(j, np.linalg.norm(cassie.data.cfrc_ext[j]), np.linalg.norm(first_values[j]))"
   ]
  },
  {
   "cell_type": "code",
   "execution_count": null,
   "metadata": {},
   "outputs": [
    {
     "ename": "",
     "evalue": "",
     "output_type": "error",
     "traceback": [
      "\u001b[1;31mRunning cells with 'c:\\Users\\alhussein Jamil\\AppData\\Local\\Microsoft\\WindowsApps\\python3.10.exe' requires the ipykernel package.\n",
      "\u001b[1;31mRun the following command to install 'ipykernel' into the Python environment. \n",
      "\u001b[1;31mCommand: '\"c:/Users/alhussein Jamil/AppData/Local/Microsoft/WindowsApps/python3.10.exe\" -m pip install ipykernel -U --user --force-reinstall'"
     ]
    }
   ],
   "source": []
  },
  {
   "cell_type": "code",
   "execution_count": null,
   "metadata": {},
   "outputs": [
    {
     "ename": "",
     "evalue": "",
     "output_type": "error",
     "traceback": [
      "\u001b[1;31mRunning cells with 'c:\\Users\\alhussein Jamil\\AppData\\Local\\Microsoft\\WindowsApps\\python3.10.exe' requires the ipykernel package.\n",
      "\u001b[1;31mRun the following command to install 'ipykernel' into the Python environment. \n",
      "\u001b[1;31mCommand: '\"c:/Users/alhussein Jamil/AppData/Local/Microsoft/WindowsApps/python3.10.exe\" -m pip install ipykernel -U --user --force-reinstall'"
     ]
    }
   ],
   "source": [
    "cassie = CassieEnv({})\n",
    "cassie.render_mode = \"rgb_array\"\n",
    "cassie.reset()\n",
    "media.show_image(cassie.render())"
   ]
  },
  {
   "cell_type": "code",
   "execution_count": null,
   "metadata": {},
   "outputs": [
    {
     "ename": "",
     "evalue": "",
     "output_type": "error",
     "traceback": [
      "\u001b[1;31mRunning cells with 'c:\\Users\\alhussein Jamil\\AppData\\Local\\Microsoft\\WindowsApps\\python3.10.exe' requires the ipykernel package.\n",
      "\u001b[1;31mRun the following command to install 'ipykernel' into the Python environment. \n",
      "\u001b[1;31mCommand: '\"c:/Users/alhussein Jamil/AppData/Local/Microsoft/WindowsApps/python3.10.exe\" -m pip install ipykernel -U --user --force-reinstall'"
     ]
    }
   ],
   "source": [
    "cassie.data.qpos"
   ]
  },
  {
   "cell_type": "code",
   "execution_count": null,
   "metadata": {},
   "outputs": [
    {
     "ename": "",
     "evalue": "",
     "output_type": "error",
     "traceback": [
      "\u001b[1;31mRunning cells with 'c:\\Users\\alhussein Jamil\\AppData\\Local\\Microsoft\\WindowsApps\\python3.10.exe' requires the ipykernel package.\n",
      "\u001b[1;31mRun the following command to install 'ipykernel' into the Python environment. \n",
      "\u001b[1;31mCommand: '\"c:/Users/alhussein Jamil/AppData/Local/Microsoft/WindowsApps/python3.10.exe\" -m pip install ipykernel -U --user --force-reinstall'"
     ]
    }
   ],
   "source": [
    "x = cassie.data.qpos\n",
    "\n",
    "#find values that are equal in absolute value\n",
    "for i in range(len(x)):\n",
    "    for j in range(len(x)):\n",
    "        if(i!=j):\n",
    "            if(np.abs(np.abs(x[i])-np.abs(x[j]))<0.0000001):\n",
    "                print(i,j, x[i], x[j])"
   ]
  },
  {
   "cell_type": "code",
   "execution_count": null,
   "metadata": {},
   "outputs": [
    {
     "ename": "",
     "evalue": "",
     "output_type": "error",
     "traceback": [
      "\u001b[1;31mRunning cells with 'c:\\Users\\alhussein Jamil\\AppData\\Local\\Microsoft\\WindowsApps\\python3.10.exe' requires the ipykernel package.\n",
      "\u001b[1;31mRun the following command to install 'ipykernel' into the Python environment. \n",
      "\u001b[1;31mCommand: '\"c:/Users/alhussein Jamil/AppData/Local/Microsoft/WindowsApps/python3.10.exe\" -m pip install ipykernel -U --user --force-reinstall'"
     ]
    }
   ],
   "source": [
    "import mujoco as m"
   ]
  },
  {
   "cell_type": "code",
   "execution_count": null,
   "metadata": {},
   "outputs": [
    {
     "ename": "",
     "evalue": "",
     "output_type": "error",
     "traceback": [
      "\u001b[1;31mRunning cells with 'c:\\Users\\alhussein Jamil\\AppData\\Local\\Microsoft\\WindowsApps\\python3.10.exe' requires the ipykernel package.\n",
      "\u001b[1;31mRun the following command to install 'ipykernel' into the Python environment. \n",
      "\u001b[1;31mCommand: '\"c:/Users/alhussein Jamil/AppData/Local/Microsoft/WindowsApps/python3.10.exe\" -m pip install ipykernel -U --user --force-reinstall'"
     ]
    }
   ],
   "source": [
    "cassie.reset()\n",
    "cassie.render_mode = \"rgb_array\"\n",
    "frames = []\n",
    "\n",
    "feet_in_contact = []\n",
    "for i in range(200):\n",
    "    cassie.step(np.zeros(10,)) \n",
    "    # print('number of contacts', cassie.data.ncon)\n",
    "    contacts = [contact.geom2 for contact in cassie.data.contact]\n",
    "    if( 49 in contacts):\n",
    "        print(contacts.index(49))\n",
    "        contact_force_left_foot = np.zeros(6)\n",
    "        m.mj_contactForce(cassie.model, cassie.data, contacts.index(49), contact_force_left_foot)\n",
    "        print(contact_force_left_foot)\n",
    "    if(33 in contacts):\n",
    "        print(contacts.index(33))\n",
    "        contact_force_right_foot = np.zeros(6)\n",
    "        m.mj_contactForce(cassie.model, cassie.data, contacts.index(33), contact_force_right_foot)\n",
    "        print(contact_force_right_foot)\n",
    "    # if( 49 in contacts):\n",
    "    #     if(\"Right\" not in feet_in_contact):\n",
    "    #         feet_in_contact.append(\"Right\")\n",
    "    # else:\n",
    "    #     if(\"Right\" in feet_in_contact):\n",
    "    #         feet_in_contact.remove(\"Right\")\n",
    "    #     # print('LEFT_FOOT',end=\" \")\n",
    "    # if(33 in contacts):\n",
    "    #     if(\"Left\" not in feet_in_contact):\n",
    "    #         feet_in_contact.append(\"Left\")\n",
    "    # else:\n",
    "    #     if(\"Left\" in feet_in_contact):\n",
    "\n",
    "    # feet_in_contact.remove(\"Left\")\n",
    "    # print(feet_in_contact)\n",
    "    # # Feet Contact Forces\n",
    "\n",
    "    # contact_force_left_foot = np.zeros(6)\n",
    "    # m.mj_contactForce(cassie.model, cassie.data, 1, contact_force_left_foot)\n",
    "    # frames.append(cassie.render())\n",
    "\n",
    "media.show_video( frames, fps=10)"
   ]
  },
  {
   "cell_type": "code",
   "execution_count": null,
   "metadata": {},
   "outputs": [
    {
     "ename": "",
     "evalue": "",
     "output_type": "error",
     "traceback": [
      "\u001b[1;31mRunning cells with 'c:\\Users\\alhussein Jamil\\AppData\\Local\\Microsoft\\WindowsApps\\python3.10.exe' requires the ipykernel package.\n",
      "\u001b[1;31mRun the following command to install 'ipykernel' into the Python environment. \n",
      "\u001b[1;31mCommand: '\"c:/Users/alhussein Jamil/AppData/Local/Microsoft/WindowsApps/python3.10.exe\" -m pip install ipykernel -U --user --force-reinstall'"
     ]
    }
   ],
   "source": [
    "33 droite \n",
    "49 gauche"
   ]
  },
  {
   "cell_type": "code",
   "execution_count": null,
   "metadata": {},
   "outputs": [
    {
     "ename": "",
     "evalue": "",
     "output_type": "error",
     "traceback": [
      "\u001b[1;31mRunning cells with 'c:\\Users\\alhussein Jamil\\AppData\\Local\\Microsoft\\WindowsApps\\python3.10.exe' requires the ipykernel package.\n",
      "\u001b[1;31mRun the following command to install 'ipykernel' into the Python environment. \n",
      "\u001b[1;31mCommand: '\"c:/Users/alhussein Jamil/AppData/Local/Microsoft/WindowsApps/python3.10.exe\" -m pip install ipykernel -U --user --force-reinstall'"
     ]
    }
   ],
   "source": [
    "cassie = CassieEnv({})"
   ]
  },
  {
   "cell_type": "code",
   "execution_count": null,
   "metadata": {},
   "outputs": [
    {
     "ename": "",
     "evalue": "",
     "output_type": "error",
     "traceback": [
      "\u001b[1;31mRunning cells with 'c:\\Users\\alhussein Jamil\\AppData\\Local\\Microsoft\\WindowsApps\\python3.10.exe' requires the ipykernel package.\n",
      "\u001b[1;31mRun the following command to install 'ipykernel' into the Python environment. \n",
      "\u001b[1;31mCommand: '\"c:/Users/alhussein Jamil/AppData/Local/Microsoft/WindowsApps/python3.10.exe\" -m pip install ipykernel -U --user --force-reinstall'"
     ]
    }
   ],
   "source": [
    "cassie.reset()"
   ]
  },
  {
   "cell_type": "code",
   "execution_count": null,
   "metadata": {},
   "outputs": [
    {
     "ename": "",
     "evalue": "",
     "output_type": "error",
     "traceback": [
      "\u001b[1;31mRunning cells with 'c:\\Users\\alhussein Jamil\\AppData\\Local\\Microsoft\\WindowsApps\\python3.10.exe' requires the ipykernel package.\n",
      "\u001b[1;31mRun the following command to install 'ipykernel' into the Python environment. \n",
      "\u001b[1;31mCommand: '\"c:/Users/alhussein Jamil/AppData/Local/Microsoft/WindowsApps/python3.10.exe\" -m pip install ipykernel -U --user --force-reinstall'"
     ]
    }
   ],
   "source": [
    "right 25\n",
    "left 13"
   ]
  },
  {
   "cell_type": "code",
   "execution_count": null,
   "metadata": {},
   "outputs": [
    {
     "ename": "",
     "evalue": "",
     "output_type": "error",
     "traceback": [
      "\u001b[1;31mRunning cells with 'c:\\Users\\alhussein Jamil\\AppData\\Local\\Microsoft\\WindowsApps\\python3.10.exe' requires the ipykernel package.\n",
      "\u001b[1;31mRun the following command to install 'ipykernel' into the Python environment. \n",
      "\u001b[1;31mCommand: '\"c:/Users/alhussein Jamil/AppData/Local/Microsoft/WindowsApps/python3.10.exe\" -m pip install ipykernel -U --user --force-reinstall'"
     ]
    }
   ],
   "source": [
    "\n",
    "cassie.step(np.zeros(10,))\n",
    "z = cassie.data.xpos[:,2]\n",
    "y = cassie.data.xpos[:,1]\n",
    "\n",
    "plt.scatter(y,z)\n",
    "#add labels to the points\n",
    "for i in range(len(y)):\n",
    "    plt.annotate(i, (y[i], z[i]))"
   ]
  },
  {
   "cell_type": "code",
   "execution_count": null,
   "metadata": {},
   "outputs": [
    {
     "ename": "",
     "evalue": "",
     "output_type": "error",
     "traceback": [
      "\u001b[1;31mRunning cells with 'c:\\Users\\alhussein Jamil\\AppData\\Local\\Microsoft\\WindowsApps\\python3.10.exe' requires the ipykernel package.\n",
      "\u001b[1;31mRun the following command to install 'ipykernel' into the Python environment. \n",
      "\u001b[1;31mCommand: '\"c:/Users/alhussein Jamil/AppData/Local/Microsoft/WindowsApps/python3.10.exe\" -m pip install ipykernel -U --user --force-reinstall'"
     ]
    }
   ],
   "source": [
    "print(cassie.data.xpos[:,2])\n",
    "cassie.step(cassie.action_space.sample())\n",
    "media.show_image(cassie.render())\n",
    "print(cassie.data.xpos[:,2])\n",
    "\n",
    "print(np.argsort(cassie.data.xpos[:,2]))\n",
    "print(np.argsort(cassie.data.xpos[:,1]))\n",
    "print(np.argsort(cassie.data.xpos[:,0]))"
   ]
  },
  {
   "cell_type": "code",
   "execution_count": null,
   "metadata": {},
   "outputs": [
    {
     "ename": "",
     "evalue": "",
     "output_type": "error",
     "traceback": [
      "\u001b[1;31mRunning cells with 'c:\\Users\\alhussein Jamil\\AppData\\Local\\Microsoft\\WindowsApps\\python3.10.exe' requires the ipykernel package.\n",
      "\u001b[1;31mRun the following command to install 'ipykernel' into the Python environment. \n",
      "\u001b[1;31mCommand: '\"c:/Users/alhussein Jamil/AppData/Local/Microsoft/WindowsApps/python3.10.exe\" -m pip install ipykernel -U --user --force-reinstall'"
     ]
    }
   ],
   "source": [
    "len(cassie.data.sensordata)"
   ]
  },
  {
   "cell_type": "code",
   "execution_count": null,
   "metadata": {},
   "outputs": [
    {
     "ename": "",
     "evalue": "",
     "output_type": "error",
     "traceback": [
      "\u001b[1;31mRunning cells with 'c:\\Users\\alhussein Jamil\\AppData\\Local\\Microsoft\\WindowsApps\\python3.10.exe' requires the ipykernel package.\n",
      "\u001b[1;31mRun the following command to install 'ipykernel' into the Python environment. \n",
      "\u001b[1;31mCommand: '\"c:/Users/alhussein Jamil/AppData/Local/Microsoft/WindowsApps/python3.10.exe\" -m pip install ipykernel -U --user --force-reinstall'"
     ]
    }
   ],
   "source": []
  }
 ],
 "metadata": {
  "kernelspec": {
   "display_name": "Python 3",
   "language": "python",
   "name": "python3"
  },
  "language_info": {
   "codemirror_mode": {
    "name": "ipython",
    "version": 3
   },
   "file_extension": ".py",
   "mimetype": "text/x-python",
   "name": "python",
   "nbconvert_exporter": "python",
   "pygments_lexer": "ipython3",
   "version": "3.10.11"
  },
  "orig_nbformat": 4
 },
 "nbformat": 4,
 "nbformat_minor": 2
}
